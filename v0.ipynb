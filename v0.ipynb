{
 "cells": [
  {
   "cell_type": "markdown",
   "metadata": {},
   "source": [
    "## Entity recognision with pre-trained model\n",
    "\n",
    "[Presidio doc](https://microsoft.github.io/presidio/analyzer/adding_recognizers/)\n"
   ]
  },
  {
   "cell_type": "code",
   "execution_count": 1,
   "metadata": {},
   "outputs": [
    {
     "name": "stdout",
     "output_type": "stream",
     "text": [
      "PERSON works at Microsoft. She lives in LOCATION. Her husband PERSON lives in LOCATION. They have two kids. PERSON's phone number is PHONE_NUMBER. Her email is EMAIL_ADDRESS\n"
     ]
    }
   ],
   "source": [
    "from presidio_analyzer import AnalyzerEngine\n",
    "\n",
    "text = \"Sara works at Microsoft. She lives in Seattle. Her husband Mike lives in London. They have two kids. Sara's phone number is 425-555-1234. Her email is sara@mail.me\"\n",
    "\n",
    "results = AnalyzerEngine().analyze(text=text, language=\"en\")\n",
    "\n",
    "mapping = {}\n",
    "for result in results:\n",
    "    word = text[result.start:result.end]\n",
    "    mapping[word] = result.entity_type\n",
    "\n",
    "for word, type in mapping.items():\n",
    "    text = text.replace(word, type)\n",
    "\n",
    "print(text)"
   ]
  }
 ],
 "metadata": {
  "kernelspec": {
   "display_name": "Python 3.10.6 ('venv': venv)",
   "language": "python",
   "name": "python3"
  },
  "language_info": {
   "codemirror_mode": {
    "name": "ipython",
    "version": 3
   },
   "file_extension": ".py",
   "mimetype": "text/x-python",
   "name": "python",
   "nbconvert_exporter": "python",
   "pygments_lexer": "ipython3",
   "version": "3.10.6"
  },
  "orig_nbformat": 4,
  "vscode": {
   "interpreter": {
    "hash": "d15170692cf5269c706bf8cd7d12d7570903b59b2c8dfedd3be81f8e3a6350ff"
   }
  }
 },
 "nbformat": 4,
 "nbformat_minor": 2
}
